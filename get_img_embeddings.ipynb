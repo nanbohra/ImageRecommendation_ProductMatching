{
 "cells": [
  {
   "cell_type": "code",
   "execution_count": 2,
   "metadata": {},
   "outputs": [
    {
     "data": {
      "text/plain": [
       "'\\nScript to generate embeddings for images (for catalog images) and store embeddings to Qdrant database.\\n@File    : embeddings.py\\n@Date    : 2025-03-04\\n@Author  : Nandini Bohra\\n@Contact : nbohra@ucsd.edu\\n\\n@References : https://www.youtube.com/watch?v=MlRkBvOCfTY\\n'"
      ]
     },
     "execution_count": 2,
     "metadata": {},
     "output_type": "execute_result"
    }
   ],
   "source": [
    "\"\"\"\n",
    "Script to generate embeddings for images (for catalog images) and store embeddings to Qdrant database.\n",
    "@File    : embeddings.py\n",
    "@Date    : 2025-03-04\n",
    "@Author  : Nandini Bohra\n",
    "@Contact : nbohra@ucsd.edu\n",
    "\n",
    "@References : https://www.youtube.com/watch?v=MlRkBvOCfTY\n",
    "\"\"\""
   ]
  },
  {
   "cell_type": "code",
   "execution_count": 3,
   "metadata": {},
   "outputs": [
    {
     "name": "stdout",
     "output_type": "stream",
     "text": [
      "['sample_48.jpg', 'sample_49.jpg', 'sample_05.jpg', 'sample_11.jpg', 'sample_39.jpg', 'sample_38.jpg', 'sample_10.jpg', 'sample_04.jpg', 'sample_12.jpg', 'sample_06.jpg', 'sample_07.jpg', 'sample_13.jpg', 'sample_17.jpg', 'sample_03.jpg', 'sample_02.jpg', 'sample_16.jpg', 'sample_28.jpg', 'sample_00.jpg', 'sample_14.jpg', 'sample_15.jpg', 'sample_01.jpg', 'sample_29.jpg', 'sample_24.jpg', 'sample_30.jpg', 'sample_18.jpg', 'sample_19.jpg', 'sample_31.jpg', 'sample_25.jpg', 'sample_33.jpg', 'sample_27.jpg', 'sample_26.jpg', 'sample_32.jpg', 'sample_36.jpg', 'sample_22.jpg', 'sample_23.jpg', 'sample_37.jpg', 'sample_09.jpg', 'sample_21.jpg', 'sample_35.jpg', 'sample_34.jpg', 'sample_20.jpg', 'sample_08.jpg', 'sample_47.jpg', 'sample_46.jpg', 'sample_44.jpg', 'sample_45.jpg', 'sample_41.jpg', 'sample_40.jpg', 'sample_42.jpg', 'sample_43.jpg']\n"
     ]
    }
   ],
   "source": [
    "# Creating list of all catalog images in local directory\n",
    "\n",
    "import os\n",
    "\n",
    "base_directory = \"/Users/nandinibohra/Desktop/VSCodeFiles/ImageRecommendation_ProductMatching/Product_Catalog/all_product_images/sample_images\"\n",
    "all_img_files = os.listdir(base_directory)\n",
    "print(all_img_files)\n"
   ]
  },
  {
   "cell_type": "code",
   "execution_count": 4,
   "metadata": {},
   "outputs": [
    {
     "data": {
      "text/plain": [
       "['/Users/nandinibohra/Desktop/VSCodeFiles/ImageRecommendation_ProductMatching/Product_Catalog/all_product_images/sample_images/sample_00.jpg',\n",
       " '/Users/nandinibohra/Desktop/VSCodeFiles/ImageRecommendation_ProductMatching/Product_Catalog/all_product_images/sample_images/sample_01.jpg',\n",
       " '/Users/nandinibohra/Desktop/VSCodeFiles/ImageRecommendation_ProductMatching/Product_Catalog/all_product_images/sample_images/sample_02.jpg',\n",
       " '/Users/nandinibohra/Desktop/VSCodeFiles/ImageRecommendation_ProductMatching/Product_Catalog/all_product_images/sample_images/sample_03.jpg',\n",
       " '/Users/nandinibohra/Desktop/VSCodeFiles/ImageRecommendation_ProductMatching/Product_Catalog/all_product_images/sample_images/sample_04.jpg',\n",
       " '/Users/nandinibohra/Desktop/VSCodeFiles/ImageRecommendation_ProductMatching/Product_Catalog/all_product_images/sample_images/sample_05.jpg',\n",
       " '/Users/nandinibohra/Desktop/VSCodeFiles/ImageRecommendation_ProductMatching/Product_Catalog/all_product_images/sample_images/sample_06.jpg',\n",
       " '/Users/nandinibohra/Desktop/VSCodeFiles/ImageRecommendation_ProductMatching/Product_Catalog/all_product_images/sample_images/sample_07.jpg',\n",
       " '/Users/nandinibohra/Desktop/VSCodeFiles/ImageRecommendation_ProductMatching/Product_Catalog/all_product_images/sample_images/sample_08.jpg',\n",
       " '/Users/nandinibohra/Desktop/VSCodeFiles/ImageRecommendation_ProductMatching/Product_Catalog/all_product_images/sample_images/sample_09.jpg',\n",
       " '/Users/nandinibohra/Desktop/VSCodeFiles/ImageRecommendation_ProductMatching/Product_Catalog/all_product_images/sample_images/sample_10.jpg',\n",
       " '/Users/nandinibohra/Desktop/VSCodeFiles/ImageRecommendation_ProductMatching/Product_Catalog/all_product_images/sample_images/sample_11.jpg',\n",
       " '/Users/nandinibohra/Desktop/VSCodeFiles/ImageRecommendation_ProductMatching/Product_Catalog/all_product_images/sample_images/sample_12.jpg',\n",
       " '/Users/nandinibohra/Desktop/VSCodeFiles/ImageRecommendation_ProductMatching/Product_Catalog/all_product_images/sample_images/sample_13.jpg',\n",
       " '/Users/nandinibohra/Desktop/VSCodeFiles/ImageRecommendation_ProductMatching/Product_Catalog/all_product_images/sample_images/sample_14.jpg']"
      ]
     },
     "execution_count": 4,
     "metadata": {},
     "output_type": "execute_result"
    }
   ],
   "source": [
    "# Creating full paths of all catalog images in local directory\n",
    "\n",
    "all_img_urls = list(map(lambda x: os.path.join(base_directory, x), all_img_files))\n",
    "all_img_urls.sort()\n",
    "all_img_urls[:15]"
   ]
  },
  {
   "cell_type": "code",
   "execution_count": 5,
   "metadata": {},
   "outputs": [
    {
     "name": "stdout",
     "output_type": "stream",
     "text": [
      "{'/Users/nandinibohra/Desktop/VSCodeFiles/ImageRecommendation_ProductMatching/Product_Catalog/all_product_images/sample_images/sample_00.jpg': ['JUTE', 'CREAM'], '/Users/nandinibohra/Desktop/VSCodeFiles/ImageRecommendation_ProductMatching/Product_Catalog/all_product_images/sample_images/sample_01.jpg': ['AURA', 'ROSE'], '/Users/nandinibohra/Desktop/VSCodeFiles/ImageRecommendation_ProductMatching/Product_Catalog/all_product_images/sample_images/sample_02.jpg': ['AURA', 'MINT'], '/Users/nandinibohra/Desktop/VSCodeFiles/ImageRecommendation_ProductMatching/Product_Catalog/all_product_images/sample_images/sample_03.jpg': ['SURFACE', 'OFFWHITE'], '/Users/nandinibohra/Desktop/VSCodeFiles/ImageRecommendation_ProductMatching/Product_Catalog/all_product_images/sample_images/sample_04.jpg': ['SURFACE', 'COFFEE'], '/Users/nandinibohra/Desktop/VSCodeFiles/ImageRecommendation_ProductMatching/Product_Catalog/all_product_images/sample_images/sample_05.jpg': ['AURA', 'BROWN'], '/Users/nandinibohra/Desktop/VSCodeFiles/ImageRecommendation_ProductMatching/Product_Catalog/all_product_images/sample_images/sample_06.jpg': ['AURA', 'PEACOCK'], '/Users/nandinibohra/Desktop/VSCodeFiles/ImageRecommendation_ProductMatching/Product_Catalog/all_product_images/sample_images/sample_07.jpg': ['JUTE', 'MAIZE'], '/Users/nandinibohra/Desktop/VSCodeFiles/ImageRecommendation_ProductMatching/Product_Catalog/all_product_images/sample_images/sample_08.jpg': ['AURA', 'BUFF'], '/Users/nandinibohra/Desktop/VSCodeFiles/ImageRecommendation_ProductMatching/Product_Catalog/all_product_images/sample_images/sample_09.jpg': ['JUTE', 'OAK'], '/Users/nandinibohra/Desktop/VSCodeFiles/ImageRecommendation_ProductMatching/Product_Catalog/all_product_images/sample_images/sample_10.jpg': ['CHORD', 'COFFEE'], '/Users/nandinibohra/Desktop/VSCodeFiles/ImageRecommendation_ProductMatching/Product_Catalog/all_product_images/sample_images/sample_11.jpg': ['SURFACE', 'SILVER'], '/Users/nandinibohra/Desktop/VSCodeFiles/ImageRecommendation_ProductMatching/Product_Catalog/all_product_images/sample_images/sample_12.jpg': ['SURFACE', 'PEACH'], '/Users/nandinibohra/Desktop/VSCodeFiles/ImageRecommendation_ProductMatching/Product_Catalog/all_product_images/sample_images/sample_13.jpg': ['AURA', 'CAMEL'], '/Users/nandinibohra/Desktop/VSCodeFiles/ImageRecommendation_ProductMatching/Product_Catalog/all_product_images/sample_images/sample_14.jpg': ['SURFACE', 'STEEL'], '/Users/nandinibohra/Desktop/VSCodeFiles/ImageRecommendation_ProductMatching/Product_Catalog/all_product_images/sample_images/sample_15.jpg': ['JUTE', 'STEEL'], '/Users/nandinibohra/Desktop/VSCodeFiles/ImageRecommendation_ProductMatching/Product_Catalog/all_product_images/sample_images/sample_16.jpg': ['JUTE', 'OFFWHITE'], '/Users/nandinibohra/Desktop/VSCodeFiles/ImageRecommendation_ProductMatching/Product_Catalog/all_product_images/sample_images/sample_17.jpg': ['AURA', 'BROWN'], '/Users/nandinibohra/Desktop/VSCodeFiles/ImageRecommendation_ProductMatching/Product_Catalog/all_product_images/sample_images/sample_18.jpg': ['CHORD', 'OFFWHITE'], '/Users/nandinibohra/Desktop/VSCodeFiles/ImageRecommendation_ProductMatching/Product_Catalog/all_product_images/sample_images/sample_19.jpg': ['AURA', 'GREASE'], '/Users/nandinibohra/Desktop/VSCodeFiles/ImageRecommendation_ProductMatching/Product_Catalog/all_product_images/sample_images/sample_20.jpg': ['4271', 'PEACH'], '/Users/nandinibohra/Desktop/VSCodeFiles/ImageRecommendation_ProductMatching/Product_Catalog/all_product_images/sample_images/sample_21.jpg': ['4272', 'PEACH'], '/Users/nandinibohra/Desktop/VSCodeFiles/ImageRecommendation_ProductMatching/Product_Catalog/all_product_images/sample_images/sample_22.jpg': ['SURFACE', 'CREAM'], '/Users/nandinibohra/Desktop/VSCodeFiles/ImageRecommendation_ProductMatching/Product_Catalog/all_product_images/sample_images/sample_23.jpg': ['4278', 'PISTA'], '/Users/nandinibohra/Desktop/VSCodeFiles/ImageRecommendation_ProductMatching/Product_Catalog/all_product_images/sample_images/sample_24.jpg': ['4280', 'PISTA'], '/Users/nandinibohra/Desktop/VSCodeFiles/ImageRecommendation_ProductMatching/Product_Catalog/all_product_images/sample_images/sample_25.jpg': ['CHORD', 'BEIGE'], '/Users/nandinibohra/Desktop/VSCodeFiles/ImageRecommendation_ProductMatching/Product_Catalog/all_product_images/sample_images/sample_26.jpg': ['4271', 'DKBEIGE'], '/Users/nandinibohra/Desktop/VSCodeFiles/ImageRecommendation_ProductMatching/Product_Catalog/all_product_images/sample_images/sample_27.jpg': ['4272', 'DKBEIGE'], '/Users/nandinibohra/Desktop/VSCodeFiles/ImageRecommendation_ProductMatching/Product_Catalog/all_product_images/sample_images/sample_28.jpg': ['JUTE', 'BRASS'], '/Users/nandinibohra/Desktop/VSCodeFiles/ImageRecommendation_ProductMatching/Product_Catalog/all_product_images/sample_images/sample_29.jpg': ['4271', 'TEAL'], '/Users/nandinibohra/Desktop/VSCodeFiles/ImageRecommendation_ProductMatching/Product_Catalog/all_product_images/sample_images/sample_30.jpg': ['4272', 'TEAL'], '/Users/nandinibohra/Desktop/VSCodeFiles/ImageRecommendation_ProductMatching/Product_Catalog/all_product_images/sample_images/sample_31.jpg': ['SURFACE', 'AQUA'], '/Users/nandinibohra/Desktop/VSCodeFiles/ImageRecommendation_ProductMatching/Product_Catalog/all_product_images/sample_images/sample_32.jpg': ['4278', 'MINT'], '/Users/nandinibohra/Desktop/VSCodeFiles/ImageRecommendation_ProductMatching/Product_Catalog/all_product_images/sample_images/sample_33.jpg': ['4280', 'MINT'], '/Users/nandinibohra/Desktop/VSCodeFiles/ImageRecommendation_ProductMatching/Product_Catalog/all_product_images/sample_images/sample_34.jpg': ['SURFACE', 'MINT'], '/Users/nandinibohra/Desktop/VSCodeFiles/ImageRecommendation_ProductMatching/Product_Catalog/all_product_images/sample_images/sample_35.jpg': ['4271', 'SILVER'], '/Users/nandinibohra/Desktop/VSCodeFiles/ImageRecommendation_ProductMatching/Product_Catalog/all_product_images/sample_images/sample_36.jpg': ['4272', 'SILVER'], '/Users/nandinibohra/Desktop/VSCodeFiles/ImageRecommendation_ProductMatching/Product_Catalog/all_product_images/sample_images/sample_37.jpg': ['JUTE', 'SNOW'], '/Users/nandinibohra/Desktop/VSCodeFiles/ImageRecommendation_ProductMatching/Product_Catalog/all_product_images/sample_images/sample_38.jpg': ['4278', 'PEACH'], '/Users/nandinibohra/Desktop/VSCodeFiles/ImageRecommendation_ProductMatching/Product_Catalog/all_product_images/sample_images/sample_39.jpg': ['4280', 'PEACH'], '/Users/nandinibohra/Desktop/VSCodeFiles/ImageRecommendation_ProductMatching/Product_Catalog/all_product_images/sample_images/sample_40.jpg': ['CHORD', 'MAIZE'], '/Users/nandinibohra/Desktop/VSCodeFiles/ImageRecommendation_ProductMatching/Product_Catalog/all_product_images/sample_images/sample_41.jpg': ['4271', 'MINT'], '/Users/nandinibohra/Desktop/VSCodeFiles/ImageRecommendation_ProductMatching/Product_Catalog/all_product_images/sample_images/sample_42.jpg': ['4272', 'MINT'], '/Users/nandinibohra/Desktop/VSCodeFiles/ImageRecommendation_ProductMatching/Product_Catalog/all_product_images/sample_images/sample_43.jpg': ['AURA', 'MINT'], '/Users/nandinibohra/Desktop/VSCodeFiles/ImageRecommendation_ProductMatching/Product_Catalog/all_product_images/sample_images/sample_44.jpg': ['4278', 'OFFWHITE'], '/Users/nandinibohra/Desktop/VSCodeFiles/ImageRecommendation_ProductMatching/Product_Catalog/all_product_images/sample_images/sample_45.jpg': ['4280', 'OFFWHITE'], '/Users/nandinibohra/Desktop/VSCodeFiles/ImageRecommendation_ProductMatching/Product_Catalog/all_product_images/sample_images/sample_46.jpg': ['SURFACE', 'MUSTARD'], '/Users/nandinibohra/Desktop/VSCodeFiles/ImageRecommendation_ProductMatching/Product_Catalog/all_product_images/sample_images/sample_47.jpg': ['4271', 'BUFF'], '/Users/nandinibohra/Desktop/VSCodeFiles/ImageRecommendation_ProductMatching/Product_Catalog/all_product_images/sample_images/sample_48.jpg': ['4272', 'BUFF'], '/Users/nandinibohra/Desktop/VSCodeFiles/ImageRecommendation_ProductMatching/Product_Catalog/all_product_images/sample_images/sample_49.jpg': ['JUTE', 'BUFF']}\n"
     ]
    },
    {
     "data": {
      "text/html": [
       "<div>\n",
       "<style scoped>\n",
       "    .dataframe tbody tr th:only-of-type {\n",
       "        vertical-align: middle;\n",
       "    }\n",
       "\n",
       "    .dataframe tbody tr th {\n",
       "        vertical-align: top;\n",
       "    }\n",
       "\n",
       "    .dataframe thead th {\n",
       "        text-align: right;\n",
       "    }\n",
       "</style>\n",
       "<table border=\"1\" class=\"dataframe\">\n",
       "  <thead>\n",
       "    <tr style=\"text-align: right;\">\n",
       "      <th></th>\n",
       "      <th>id</th>\n",
       "      <th>image_url</th>\n",
       "      <th>type</th>\n",
       "      <th>material</th>\n",
       "      <th>color</th>\n",
       "    </tr>\n",
       "  </thead>\n",
       "  <tbody>\n",
       "    <tr>\n",
       "      <th>0</th>\n",
       "      <td>0</td>\n",
       "      <td>/Users/nandinibohra/Desktop/VSCodeFiles/ImageR...</td>\n",
       "      <td>samples</td>\n",
       "      <td>JUTE</td>\n",
       "      <td>CREAM</td>\n",
       "    </tr>\n",
       "    <tr>\n",
       "      <th>1</th>\n",
       "      <td>1</td>\n",
       "      <td>/Users/nandinibohra/Desktop/VSCodeFiles/ImageR...</td>\n",
       "      <td>samples</td>\n",
       "      <td>AURA</td>\n",
       "      <td>ROSE</td>\n",
       "    </tr>\n",
       "    <tr>\n",
       "      <th>2</th>\n",
       "      <td>2</td>\n",
       "      <td>/Users/nandinibohra/Desktop/VSCodeFiles/ImageR...</td>\n",
       "      <td>samples</td>\n",
       "      <td>AURA</td>\n",
       "      <td>MINT</td>\n",
       "    </tr>\n",
       "    <tr>\n",
       "      <th>3</th>\n",
       "      <td>3</td>\n",
       "      <td>/Users/nandinibohra/Desktop/VSCodeFiles/ImageR...</td>\n",
       "      <td>samples</td>\n",
       "      <td>SURFACE</td>\n",
       "      <td>OFFWHITE</td>\n",
       "    </tr>\n",
       "    <tr>\n",
       "      <th>4</th>\n",
       "      <td>4</td>\n",
       "      <td>/Users/nandinibohra/Desktop/VSCodeFiles/ImageR...</td>\n",
       "      <td>samples</td>\n",
       "      <td>SURFACE</td>\n",
       "      <td>COFFEE</td>\n",
       "    </tr>\n",
       "  </tbody>\n",
       "</table>\n",
       "</div>"
      ],
      "text/plain": [
       "   id                                          image_url     type material  \\\n",
       "0   0  /Users/nandinibohra/Desktop/VSCodeFiles/ImageR...  samples     JUTE   \n",
       "1   1  /Users/nandinibohra/Desktop/VSCodeFiles/ImageR...  samples     AURA   \n",
       "2   2  /Users/nandinibohra/Desktop/VSCodeFiles/ImageR...  samples     AURA   \n",
       "3   3  /Users/nandinibohra/Desktop/VSCodeFiles/ImageR...  samples  SURFACE   \n",
       "4   4  /Users/nandinibohra/Desktop/VSCodeFiles/ImageR...  samples  SURFACE   \n",
       "\n",
       "      color  \n",
       "0     CREAM  \n",
       "1      ROSE  \n",
       "2      MINT  \n",
       "3  OFFWHITE  \n",
       "4    COFFEE  "
      ]
     },
     "execution_count": 5,
     "metadata": {},
     "output_type": "execute_result"
    }
   ],
   "source": [
    "# Creating dataframe of all images and paths in local directory \n",
    "\n",
    "from pandas import DataFrame\n",
    "from PIL import Image\n",
    "\n",
    "from image_extraction import sample_data\n",
    "\n",
    "payloads = DataFrame.from_records(\n",
    "    {\"id\" : range(0, len(all_img_urls)),\n",
    "     \"image_url\": all_img_urls})\n",
    "payloads[\"type\"] = \"samples\"\n",
    "payloads[\"material\"] = payloads[\"image_url\"].map(lambda x: sample_data.get(x, [None, None])[0])\n",
    "payloads[\"color\"] = payloads[\"image_url\"].map(lambda x: sample_data.get(x, [None, None])[1])\n",
    "\n",
    "payloads.head()\n"
   ]
  },
  {
   "cell_type": "code",
   "execution_count": 6,
   "metadata": {},
   "outputs": [
    {
     "data": {
      "text/plain": [
       "[<PIL.JpegImagePlugin.JpegImageFile image mode=RGB size=1700x920>,\n",
       " <PIL.JpegImagePlugin.JpegImageFile image mode=RGB size=1700x920>,\n",
       " <PIL.JpegImagePlugin.JpegImageFile image mode=RGB size=1700x920>,\n",
       " <PIL.JpegImagePlugin.JpegImageFile image mode=RGB size=1700x920>,\n",
       " <PIL.JpegImagePlugin.JpegImageFile image mode=RGB size=1700x920>]"
      ]
     },
     "execution_count": 6,
     "metadata": {},
     "output_type": "execute_result"
    }
   ],
   "source": [
    "# Transforming local images into PIL images\n",
    "\n",
    "images = list(map(lambda x: Image.open(x), payloads[\"image_url\"]))\n",
    "images[:5]"
   ]
  },
  {
   "cell_type": "code",
   "execution_count": 7,
   "metadata": {},
   "outputs": [
    {
     "data": {
      "text/html": [
       "<div>\n",
       "<style scoped>\n",
       "    .dataframe tbody tr th:only-of-type {\n",
       "        vertical-align: middle;\n",
       "    }\n",
       "\n",
       "    .dataframe tbody tr th {\n",
       "        vertical-align: top;\n",
       "    }\n",
       "\n",
       "    .dataframe thead th {\n",
       "        text-align: right;\n",
       "    }\n",
       "</style>\n",
       "<table border=\"1\" class=\"dataframe\">\n",
       "  <thead>\n",
       "    <tr style=\"text-align: right;\">\n",
       "      <th></th>\n",
       "      <th>id</th>\n",
       "      <th>image_url</th>\n",
       "      <th>type</th>\n",
       "      <th>material</th>\n",
       "      <th>color</th>\n",
       "      <th>base64</th>\n",
       "    </tr>\n",
       "  </thead>\n",
       "  <tbody>\n",
       "    <tr>\n",
       "      <th>0</th>\n",
       "      <td>0</td>\n",
       "      <td>/Users/nandinibohra/Desktop/VSCodeFiles/ImageR...</td>\n",
       "      <td>samples</td>\n",
       "      <td>JUTE</td>\n",
       "      <td>CREAM</td>\n",
       "      <td>/9j/4AAQSkZJRgABAQAAAQABAAD/2wBDAAgGBgcGBQgHBw...</td>\n",
       "    </tr>\n",
       "    <tr>\n",
       "      <th>1</th>\n",
       "      <td>1</td>\n",
       "      <td>/Users/nandinibohra/Desktop/VSCodeFiles/ImageR...</td>\n",
       "      <td>samples</td>\n",
       "      <td>AURA</td>\n",
       "      <td>ROSE</td>\n",
       "      <td>/9j/4AAQSkZJRgABAQAAAQABAAD/2wBDAAgGBgcGBQgHBw...</td>\n",
       "    </tr>\n",
       "    <tr>\n",
       "      <th>2</th>\n",
       "      <td>2</td>\n",
       "      <td>/Users/nandinibohra/Desktop/VSCodeFiles/ImageR...</td>\n",
       "      <td>samples</td>\n",
       "      <td>AURA</td>\n",
       "      <td>MINT</td>\n",
       "      <td>/9j/4AAQSkZJRgABAQAAAQABAAD/2wBDAAgGBgcGBQgHBw...</td>\n",
       "    </tr>\n",
       "    <tr>\n",
       "      <th>3</th>\n",
       "      <td>3</td>\n",
       "      <td>/Users/nandinibohra/Desktop/VSCodeFiles/ImageR...</td>\n",
       "      <td>samples</td>\n",
       "      <td>SURFACE</td>\n",
       "      <td>OFFWHITE</td>\n",
       "      <td>/9j/4AAQSkZJRgABAQAAAQABAAD/2wBDAAgGBgcGBQgHBw...</td>\n",
       "    </tr>\n",
       "    <tr>\n",
       "      <th>4</th>\n",
       "      <td>4</td>\n",
       "      <td>/Users/nandinibohra/Desktop/VSCodeFiles/ImageR...</td>\n",
       "      <td>samples</td>\n",
       "      <td>SURFACE</td>\n",
       "      <td>COFFEE</td>\n",
       "      <td>/9j/4AAQSkZJRgABAQAAAQABAAD/2wBDAAgGBgcGBQgHBw...</td>\n",
       "    </tr>\n",
       "  </tbody>\n",
       "</table>\n",
       "</div>"
      ],
      "text/plain": [
       "   id                                          image_url     type material  \\\n",
       "0   0  /Users/nandinibohra/Desktop/VSCodeFiles/ImageR...  samples     JUTE   \n",
       "1   1  /Users/nandinibohra/Desktop/VSCodeFiles/ImageR...  samples     AURA   \n",
       "2   2  /Users/nandinibohra/Desktop/VSCodeFiles/ImageR...  samples     AURA   \n",
       "3   3  /Users/nandinibohra/Desktop/VSCodeFiles/ImageR...  samples  SURFACE   \n",
       "4   4  /Users/nandinibohra/Desktop/VSCodeFiles/ImageR...  samples  SURFACE   \n",
       "\n",
       "      color                                             base64  \n",
       "0     CREAM  /9j/4AAQSkZJRgABAQAAAQABAAD/2wBDAAgGBgcGBQgHBw...  \n",
       "1      ROSE  /9j/4AAQSkZJRgABAQAAAQABAAD/2wBDAAgGBgcGBQgHBw...  \n",
       "2      MINT  /9j/4AAQSkZJRgABAQAAAQABAAD/2wBDAAgGBgcGBQgHBw...  \n",
       "3  OFFWHITE  /9j/4AAQSkZJRgABAQAAAQABAAD/2wBDAAgGBgcGBQgHBw...  \n",
       "4    COFFEE  /9j/4AAQSkZJRgABAQAAAQABAAD/2wBDAAgGBgcGBQgHBw...  "
      ]
     },
     "execution_count": 7,
     "metadata": {},
     "output_type": "execute_result"
    }
   ],
   "source": [
    "# Resizing originals to smaller images and converting to base-64 rep if needed to show on front end\n",
    "\n",
    "from io import BytesIO\n",
    "import math\n",
    "import base64\n",
    "\n",
    "target_width = 256\n",
    "\n",
    "# Resizing images to target width\n",
    "# Returns PIL image\n",
    "def resize_img(url):\n",
    "    pil_img = Image.open(url)\n",
    "    img_aspect_ratio = pil_img.width / pil_img.height\n",
    "    resized_img = pil_img.resize(\n",
    "        (target_width, math.floor(target_width * img_aspect_ratio))\n",
    "    )\n",
    "\n",
    "    return resized_img\n",
    "\n",
    "# Converting PIL image to base64 string\n",
    "def img_to_base64(pil_img):\n",
    "    image_data = BytesIO()\n",
    "    pil_img.save(image_data, format=\"JPEG\")\n",
    "    base64_string = base64.b64encode(image_data.getvalue()).decode(\"utf-8\")\n",
    "    return base64_string\n",
    "\n",
    "# Saving base64 reps to payloads dataframe\n",
    "resized_images = list(map(lambda x: resize_img(x), payloads[\"image_url\"])) \n",
    "base64_images = list(map(lambda x: img_to_base64(x), resized_images))\n",
    "payloads[\"base64\"] = base64_images\n",
    "payloads.head()\n"
   ]
  },
  {
   "cell_type": "code",
   "execution_count": null,
   "metadata": {},
   "outputs": [],
   "source": [
    "# Trial with Microsoft Resnet-50 model\n",
    "# https://huggingface.co/microsoft/resnet-50\n",
    "\n",
    "from transformers import AutoImageProcessor, ResNetForImageClassification\n",
    "\n",
    "processor = AutoImageProcessor.from_pretrained(\"microsoft/resnet-50\")\n",
    "model = ResNetForImageClassification.from_pretrained(\"microsoft/resnet-50\")\n",
    "\n",
    "inputs = processor(\n",
    "    images, \n",
    "    return_tensors=\"pt\", \n",
    "    # padding=True\n",
    ")\n",
    "\n",
    "outputs = model(**inputs)\n",
    "embeddings = outputs.logits\n",
    "embeddings\n",
    "\n",
    "# Evaluated embeddings... not sure if this is the right fit \n",
    "# Researching and trying other models"
   ]
  },
  {
   "cell_type": "code",
   "execution_count": 8,
   "metadata": {},
   "outputs": [
    {
     "name": "stdout",
     "output_type": "stream",
     "text": [
      "torch.Size([50, 256, 768])\n",
      "torch.Size([50, 768])\n"
     ]
    },
    {
     "data": {
      "text/plain": [
       "tensor([[ 2.0762, -0.6573, -1.2523,  ..., -2.4574,  2.6448,  1.5191],\n",
       "        [-0.4449, -2.0491,  0.1821,  ..., -1.9458,  0.8712,  0.5811],\n",
       "        [ 0.4392, -1.2278,  0.5826,  ..., -2.7191,  0.5528,  0.1768],\n",
       "        ...,\n",
       "        [-0.9288,  0.0287,  0.2134,  ...,  0.1613,  1.1370, -0.3278],\n",
       "        [-0.9295, -1.0524,  0.2013,  ..., -1.2167,  1.9730,  0.4091],\n",
       "        [ 1.3811,  0.6739, -1.6661,  ..., -2.4400,  2.4154,  1.5018]])"
      ]
     },
     "execution_count": 8,
     "metadata": {},
     "output_type": "execute_result"
    }
   ],
   "source": [
    "# Trying DINO V2 model \n",
    "# Less for object classification and more for fine details, textures --> may be suitable for textile catalog\n",
    "# https://huggingface.co/facebook/dinov2-base\n",
    "\n",
    "from transformers import AutoImageProcessor, AutoModel\n",
    "import torch\n",
    "\n",
    "processor = AutoImageProcessor.from_pretrained('facebook/dinov2-base')\n",
    "model = AutoModel.from_pretrained('facebook/dinov2-base')\n",
    "\n",
    "inputs = processor(\n",
    "    images, \n",
    "    return_tensors=\"pt\")\n",
    "\n",
    "with torch.no_grad():\n",
    "    outputs = model(**inputs)\n",
    "\n",
    "hidden_states = outputs.last_hidden_state # Shape: [batch_size=50, num_tokens=1+256, hidden_size=768]\n",
    "\n",
    "# Removing CLS Token and taking average of all patch embeddings\n",
    "# This is because CLS token is used for classification, semantics and not for image embeddings\n",
    "# Proceeding with average of all patch embeddings to retain more fine-grained details of image\n",
    "\n",
    "all_patch_embedding = hidden_states[:, 1:, :]\n",
    "print(all_patch_embedding.shape)\n",
    "\n",
    "avg_patch_embeddings = torch.mean(all_patch_embedding, dim=1)\n",
    "print(avg_patch_embeddings.shape)\n",
    "\n",
    "avg_patch_embeddings\n"
   ]
  },
  {
   "cell_type": "code",
   "execution_count": null,
   "metadata": {},
   "outputs": [
    {
     "data": {
      "text/plain": [
       "768"
      ]
     },
     "execution_count": 9,
     "metadata": {},
     "output_type": "execute_result"
    }
   ],
   "source": [
    "# DINOv2 Model \n",
    "embedding_len = len(avg_patch_embeddings[0])\n",
    "embedding_len"
   ]
  },
  {
   "cell_type": "code",
   "execution_count": 11,
   "metadata": {},
   "outputs": [
    {
     "name": "stdout",
     "output_type": "stream",
     "text": [
      "(50, 50)\n"
     ]
    },
    {
     "data": {
      "image/png": "[encoded data removed]",
      "text/plain": [
       "<Figure size 640x480 with 1 Axes>"
      ]
     },
     "metadata": {},
     "output_type": "display_data"
    }
   ],
   "source": [
    "# DINOv2 Model \n",
    "# Visualizing cosine similarity matrix between embeddings...\n",
    "import numpy as np\n",
    "from numpy.linalg import norm\n",
    "\n",
    "embeddings = avg_patch_embeddings.detach().cpu().numpy()\n",
    "\n",
    "# calculate value to normalize each vector by\n",
    "norm_factor = np.linalg.norm(embeddings, axis=1)\n",
    "norm_factor.shape\n",
    "\n",
    "cos_sim = np.dot(embeddings, embeddings.T) / (\n",
    "    norm(embeddings, axis=1) * norm(embeddings, axis=1)\n",
    ")\n",
    "print(cos_sim.shape)\n",
    "\n",
    "import matplotlib.pyplot as plt\n",
    "\n",
    "plt.imshow(cos_sim)\n",
    "plt.show()"
   ]
  },
  {
   "cell_type": "code",
   "execution_count": 13,
   "metadata": {},
   "outputs": [
    {
     "name": "stdout",
     "output_type": "stream",
     "text": [
      "[ 2.99235314e-01 -8.04830790e-01 -3.26556325e-01 -1.16430354e+00\n",
      "  3.47794980e-01  6.58710375e-02 -5.69005869e-02 -1.38455999e+00\n",
      "  5.69301546e-01 -2.66776800e-01  1.37092710e+00 -4.66436654e-01\n",
      "  4.90075350e-01 -7.55506337e-01 -5.10907639e-03 -3.19874525e-01\n",
      "  1.73051924e-01  3.07494402e-01 -2.77760327e-01  8.99666727e-01\n",
      " -4.39625710e-01 -3.14020777e+00 -6.93355277e-02 -1.20100629e+00\n",
      " -1.49646831e+00 -2.96690017e-01 -1.43999726e-01  3.94459039e-01\n",
      " -2.46116924e+00  6.98738098e-01 -1.65119059e-02 -1.49245039e-01\n",
      " -7.01595664e-01 -1.81534648e-01  7.28652906e-03 -2.15257093e-01\n",
      "  1.60580814e-01  9.61911753e-02  4.93272729e-02 -1.13983738e+00\n",
      "  5.36308110e-01 -1.13111544e+00 -5.94884634e-01  7.67978728e-01\n",
      "  1.26626968e+00  1.39693782e-01 -6.51156604e-02  1.91962510e-01\n",
      "  2.99756099e-02 -1.66210651e+00  4.91279006e-01  1.39845356e-01\n",
      " -2.28529841e-01  1.42638838e+00 -5.05128205e-01  2.48295829e-01\n",
      " -1.78947675e+00  7.62364566e-01 -9.75715280e-01  2.78888136e-01\n",
      "  2.64921808e+00 -4.33600396e-01 -1.05601799e+00  1.18605711e-01\n",
      "  8.23167562e-01 -9.28099275e-01  6.92170382e-01  2.63066828e-01\n",
      " -7.92485297e-01  1.64747000e+00  3.94375145e-01 -2.12871671e+00\n",
      " -1.04432750e+00 -6.56335115e-01  1.37770727e-01 -1.16956508e+00\n",
      " -7.71709502e-01  3.96518618e-01  4.58100736e-01  1.66346836e+00\n",
      "  4.63065654e-01  1.24832833e+00 -6.15064800e-01  7.07220316e-01\n",
      " -3.20414782e-01  3.84708971e-01 -3.03699613e-01 -1.88615173e-01\n",
      "  3.70226681e-01  6.15642548e-01  3.52927864e-01 -2.69169259e+00\n",
      "  8.93548906e-01 -1.35008681e+00 -1.33454621e+00 -5.42461216e-01\n",
      " -3.76918256e-01  1.92110968e+00 -8.13202977e-01  1.30779922e+00\n",
      "  1.34234682e-01 -8.22758496e-01 -6.86035454e-01  1.17039287e+00\n",
      "  1.98796320e+00  1.77265561e+00 -1.37230754e+00 -2.54873574e-01\n",
      "  1.21121991e+00 -6.04841411e-01  5.32541215e-01  8.38025749e-01\n",
      " -3.11564714e-01 -1.67950690e-01  9.36145782e-01  8.25139463e-01\n",
      "  1.44873738e+00 -8.03438574e-02  9.55395520e-01  6.62600935e-01\n",
      "  3.53500605e-01  1.13750398e+00 -9.68111813e-01 -3.35565984e-01\n",
      "  9.34667647e-01 -3.42932582e-01 -2.17771046e-02  1.42502141e+00\n",
      "  3.53861511e-01 -1.85450518e+00 -7.89427161e-01 -6.67700648e-01\n",
      " -1.25497448e+00 -1.70571423e+00 -8.09047699e-01  7.04743803e-01\n",
      " -9.42019582e-01 -8.55466306e-01 -1.00796111e-01 -1.13740134e+00\n",
      " -4.75441575e-01  4.20085251e-01  9.26380515e-01 -6.50926352e-01\n",
      "  2.69499540e-01  8.84443596e-02  1.43274617e+00 -8.64942908e-01\n",
      "  2.93325812e-01  1.05803895e+00 -1.23269236e+00 -1.43309101e-01\n",
      " -9.25162733e-01  1.42773592e+00  5.15274525e-01 -1.19463944e+00\n",
      " -1.33152282e+00 -1.83561504e+00  1.78267211e-01  1.44110227e+00\n",
      " -1.36005175e+00 -7.12841749e-01 -9.35110331e-01 -6.75663769e-01\n",
      " -1.57522810e+00 -6.44865930e-01  7.84642160e-01  3.32028776e-01\n",
      " -7.35478580e-01  4.43090856e-01 -1.41087651e+00  9.09971535e-01\n",
      " -1.22289979e+00  4.27350223e-01 -1.46959454e-01 -1.34002576e-02\n",
      " -9.35890734e-01 -3.03202200e+00 -9.09307957e-01  1.62871611e+00\n",
      " -1.33420959e-01 -9.43434685e-02 -4.76076424e-01  8.63232136e-01\n",
      " -2.00984025e+00 -8.33522305e-02  5.10040939e-01 -3.91098857e-01\n",
      "  3.92835110e-01 -6.19059801e-01 -1.61542833e+00  5.22170424e-01\n",
      "  1.53798711e+00 -8.38501871e-01 -1.41112655e-01 -1.28074479e+00\n",
      " -2.40761459e-01 -1.89289784e+00 -3.63775849e-01 -5.88381886e-01\n",
      " -9.53708649e-01 -8.35949779e-02  9.51927781e-01 -2.26797771e+00\n",
      " -1.45207167e-01 -3.66201252e-01  5.41794479e-01 -2.36529205e-02\n",
      "  1.17956363e-01  3.38294730e-02 -1.29420519e+00 -3.55647653e-01\n",
      "  8.82219374e-01  4.05672193e-03  4.58295941e-01  2.71660209e-01\n",
      " -5.06273127e+00  1.27168313e-01  2.95347184e-01  1.48855269e+00\n",
      " -6.13672912e-01 -1.31527483e-01 -3.49670768e-01  4.15925950e-01\n",
      "  1.94704115e+00 -4.80437458e-01  1.09685838e+00 -3.80326718e-01\n",
      "  1.09217167e+00 -1.46994844e-01  1.33948171e+00 -5.48866034e-01\n",
      " -7.90206373e-01  5.01878619e-01  1.19409335e+00  2.98113436e-01\n",
      " -3.62024069e-01 -3.15072805e-01  2.94079870e-01 -1.04196501e+00\n",
      " -4.21574146e-01  9.92319107e-01 -8.97091746e-01 -1.26622427e+00\n",
      "  9.97532785e-01 -7.56774992e-02 -5.14130771e-01 -4.08316433e-01\n",
      " -9.77083683e-01  4.76140141e-01  1.12912083e+00 -1.07830524e+00\n",
      "  9.99259472e-01  1.33216631e+00  7.06160367e-01  1.69424582e+00\n",
      " -5.51988780e-01  9.00229037e-01 -6.86964929e-01  1.80512655e+00\n",
      " -1.95155895e+00  1.36984539e+00  1.42114592e+00 -1.52656865e+00\n",
      "  4.70928490e-01 -1.37101257e+00 -7.89319634e-01  5.08123815e-01\n",
      "  6.62095881e+00  6.23360872e-01  1.52779862e-01  3.29851925e-01\n",
      "  2.45569631e-01  2.62099028e-01 -4.14440185e-01  1.32985339e-01\n",
      "  2.57318884e-01 -2.03416497e-01  3.61262888e-01  6.10695601e-01\n",
      " -1.23292789e-01 -5.16193032e-01  1.33619213e+00 -7.08218217e-01\n",
      " -9.84502971e-01 -7.59047717e-02 -1.50149143e+00  1.02847028e+00\n",
      " -6.17490292e-01 -4.35849726e-02  3.84762473e-02  3.01581502e-01\n",
      "  6.63766086e-01 -2.19306946e+00  1.43239367e+00  3.76814723e-01\n",
      "  2.74149328e-02 -9.63901997e-01 -5.18504977e-01  1.01975240e-01\n",
      " -8.39052737e-01 -3.53496045e-01 -3.27122003e-01 -5.58954716e-01\n",
      "  1.96590602e-01 -8.51681456e-02 -2.89924978e-03 -2.41096139e-01\n",
      "  9.10309613e-01  7.41811752e-01 -1.26517153e+00 -2.67454195e+00\n",
      "  7.57030129e-01  5.54702997e-01 -6.44931972e-01  1.51983714e+00\n",
      "  1.52276456e-01 -1.02422023e+00  1.26830339e+00  4.79918391e-01\n",
      "  5.23679219e-02  1.53818178e+00  5.37091732e-01  1.67860508e+00\n",
      " -1.49197489e-01  1.21034002e+00 -3.19375485e-01  1.49841487e+00\n",
      "  1.12628341e+00  3.04875940e-01  3.17090064e-01  8.64448011e-01\n",
      "  8.09009910e-01 -3.34373266e-02  1.03737521e+00  6.12751365e-01\n",
      " -4.56182063e-01  5.19960225e-01 -6.13706946e-01 -6.86650991e-01\n",
      " -1.06272876e+00 -1.15097137e-02  5.34886599e-01  6.73900068e-01\n",
      " -1.08905935e+00 -1.66505277e+00 -2.57493472e+00 -7.56198823e-01\n",
      "  1.27853766e-01 -6.57338619e-01 -1.30654597e+00 -4.45838004e-01\n",
      " -1.47998646e-01  1.21313357e+00  7.76600242e-01  5.33902168e-01\n",
      " -5.71599483e-01 -1.04851604e+00  2.90066838e+00  1.01376796e+00\n",
      " -3.34390903e+00  3.05583924e-01  1.19003606e+00  4.21830773e-01\n",
      " -8.72099936e-01 -1.29320279e-01 -6.71346635e-02 -2.83745434e-02\n",
      "  4.86231238e-01 -7.50482500e-01 -1.99676955e+00 -1.38934255e+00\n",
      " -1.43323779e+00  3.13108063e+00 -1.14128149e+00 -6.14206493e-01\n",
      "  6.71243966e-01  1.12177722e-01 -1.39770031e-01  2.79155910e-01\n",
      " -4.86349195e-01 -9.70718861e-01 -6.36177287e-02  1.49380815e+00\n",
      " -5.56201875e-01  2.40754783e-01  7.27583706e-01  1.96827605e-01\n",
      "  6.31932974e-01 -2.54838802e-02 -2.50662237e-01  3.16861421e-01\n",
      "  4.11300957e-01  6.74319029e-01  2.00155880e-02 -6.76514506e-01\n",
      " -2.62146831e-01 -6.23025119e-01 -7.44750440e-01 -2.17132986e-01\n",
      "  1.36132932e+00  8.75237286e-01 -1.15095401e+00  8.14271718e-03\n",
      "  3.43386084e-01 -9.29457426e-01 -5.11960208e-01 -7.94674695e-01\n",
      "  7.35830247e-01  1.84554055e-01  4.06756222e-01  2.00243759e+00\n",
      "  8.00971746e-01 -2.82645226e-01  5.98968446e-01  9.47078943e-01\n",
      " -1.13273239e+00 -2.39123440e+00 -1.56782794e+00  1.03845060e+00\n",
      "  1.51327395e+00 -5.43114424e-01 -1.47802460e+00  1.01253414e+00\n",
      "  4.99852091e-01  6.75549984e-01 -3.73290218e-02 -4.08294685e-02\n",
      " -2.15577751e-01 -4.11452293e-01 -1.05640031e-01  2.42393643e-01\n",
      "  8.47870767e-01  1.53253484e+00  5.36242664e-01  1.69642401e+00\n",
      "  6.55960560e-01  6.56199038e-01 -1.44064212e+00  3.42803925e-01\n",
      "  4.57808793e-01 -1.33726275e+00 -3.80873345e-02 -3.33606303e-01\n",
      "  5.77903688e-01  8.22250009e-01 -1.23263188e-01  5.91561794e-01\n",
      " -4.33982015e-01 -1.48294389e+00 -9.78144050e-01  1.10793149e+00\n",
      "  3.27247709e-01  1.48159671e+00 -2.30197287e+00 -1.53851736e+00\n",
      " -2.14073229e+00 -6.89714193e-01 -6.12411320e-01  4.67450649e-01\n",
      "  1.92405522e+00 -6.41261712e-02 -2.72497594e-01 -1.00207269e-01\n",
      " -9.57384706e-01 -5.45392275e-01 -5.59281111e-01  5.73554933e-01\n",
      " -2.24541366e-01 -1.20880008e-02 -1.05300438e+00 -2.42458344e-01\n",
      " -2.34200406e+00  1.20261717e+00  1.69974911e+00  9.29352343e-01\n",
      " -7.57221758e-01 -1.77039340e-01  9.24411833e-01  1.30300355e+00\n",
      "  9.88709703e-02 -3.63329202e-01  1.80182362e+00  5.87693334e-01\n",
      " -9.38146375e-03  1.48586884e-01  3.79291624e-01 -1.07314777e+00\n",
      "  2.16783977e+00 -7.59603322e-01 -3.57571989e-01  5.46131074e-01\n",
      "  1.88102436e+00 -1.17415476e+00  7.98487008e-01 -3.41232419e-01\n",
      "  5.53605139e-01 -3.00199366e+00 -2.45777965e-01 -1.07432164e-01\n",
      "  2.05870080e+00 -1.14068232e-01  3.10314506e-01  1.10861465e-01\n",
      "  1.12872362e+00 -6.00834548e-01 -7.25311577e-01  6.00636959e-01\n",
      " -2.05107546e+00 -8.43337119e-01  1.10372114e+00 -2.72404224e-01\n",
      "  6.82438612e-01 -2.02059984e+00  5.99011242e-01  1.95962358e+00\n",
      "  4.97357100e-01 -1.57446265e-01 -1.33999467e+00 -7.32262552e-01\n",
      "  1.07699156e-01  2.84408599e-01  2.90667236e-01  6.63219690e-01\n",
      " -5.11801429e-02 -9.20563817e-01  1.01524818e+00 -1.32744774e-01\n",
      "  4.17933375e-01 -6.36155725e-01  1.33824217e+00 -1.35218549e+00\n",
      "  3.95722613e-02  1.93820387e-01 -9.48366672e-02 -1.30638957e+00\n",
      " -7.25348115e-01 -2.80854583e-01 -1.03952384e+00 -7.94601083e-01\n",
      "  2.71407509e+00  1.33955419e+00 -1.70941636e-01 -7.01363504e-01\n",
      "  1.67048955e+00  1.37237638e-01 -7.22865880e-01 -1.90122592e+00\n",
      "  4.08415645e-01  1.13167429e+00 -1.17484951e+00 -2.76029348e-01\n",
      "  1.35932699e-01  1.18711019e+00 -1.42702496e+00 -2.81318098e-01\n",
      " -1.16030204e+00  3.86902206e-02  4.87440407e-01  6.89104617e-01\n",
      "  8.83117914e-01  2.32880092e+00  8.73893738e-01  5.70495009e-01\n",
      "  8.37361455e-01  1.92623362e-01  3.32937203e-02 -4.99552369e-01\n",
      " -1.33005488e+00  7.81743228e-02  5.62705219e-01  4.55110788e-01\n",
      "  5.65573812e-01  4.32761014e-01  7.47748315e-02 -1.41724575e+00\n",
      " -1.31299531e+00 -6.62732601e-01 -1.29352853e-01 -1.32842493e+00\n",
      " -4.12515253e-01  4.57443818e-02 -1.35610723e+00 -9.45275649e-03\n",
      " -4.66942638e-01  5.71660161e-01  6.23823881e-01 -8.34952518e-02\n",
      "  1.37996182e-01  5.23115695e-01  8.21914494e-01  8.97820115e-01\n",
      " -7.68005382e-03  4.11288768e-01  1.53302181e+00 -7.42198884e-01\n",
      " -4.32298899e-01  1.02259183e+00  6.26454413e-01 -1.24126756e+00\n",
      "  7.35165834e-01  7.47729361e-01 -7.55789816e-01 -3.61823440e-01\n",
      " -1.06429933e-02  3.86192888e-01  9.57813561e-01 -1.10668051e+00\n",
      " -2.85668075e-01  2.03525901e-01  2.79432416e-01  3.41892689e-01\n",
      " -3.02172713e-02 -4.96287435e-01 -7.04898894e-01 -3.85407746e-01\n",
      "  2.58321881e-01 -4.99874204e-01  3.10866654e-01  1.35000914e-01\n",
      " -9.80236590e-01 -3.70148391e-01  6.87916040e-01  1.99254465e+00\n",
      " -2.26612806e+00 -6.61883414e-01  1.77251995e+00  2.68221140e-01\n",
      " -2.03845644e+00 -2.50087047e+00 -5.37663460e-01 -2.12300897e-01\n",
      " -5.47867492e-02  4.43563044e-01 -6.74763322e-01  8.29107225e-01\n",
      " -4.26121861e-01 -9.52403545e-01 -8.06158260e-02 -2.60302401e+00\n",
      "  7.67779171e-01 -2.21808285e-01 -5.46106063e-02 -5.22016704e-01\n",
      " -7.71670401e-01  2.82821131e+00  2.87364602e-01 -5.77608228e-01\n",
      " -1.25711203e+00  3.92373085e-01  9.19758022e-01 -1.35210598e+00\n",
      " -7.97111332e-01  5.72578050e-02  6.47435524e-03 -1.64555535e-01\n",
      "  6.43115699e-01 -7.76046515e-01 -1.03446603e+00 -9.25078571e-01\n",
      "  2.41227880e-01 -1.04796553e+00  1.01007318e+00  2.26055816e-01\n",
      " -3.35825145e-01 -1.79619503e+00 -5.04124165e-01 -4.82669175e-01\n",
      " -1.11360288e+00  1.11831665e+00 -1.46299303e-01  3.84905100e-01\n",
      " -6.08008623e-01  1.16797781e+00  6.20182097e-01  4.50072527e-01\n",
      " -4.60390121e-01 -6.12456381e-01 -1.03007577e-01 -8.27356935e-01\n",
      " -1.26575553e+00  2.12212235e-01  1.54071641e+00  8.05452704e-01\n",
      "  4.07162532e-02  3.38996887e-01 -2.12607950e-01  5.53611070e-02\n",
      " -3.14963603e+00  1.55050659e+00 -6.96658313e-01 -3.47522050e-01\n",
      "  9.93580103e-01  5.14968112e-02 -7.09673464e-01  1.87249613e+00\n",
      " -2.75297552e-01  5.51675022e-01 -7.01383114e-01  5.15112162e-01\n",
      " -3.71471256e-01  1.15780783e+00 -5.57570279e-01  9.27020490e-01\n",
      " -1.71803087e-01 -6.62933409e-01  7.08785963e+00 -1.31367588e+00\n",
      "  1.13415204e-01  9.05722141e-01  1.40850961e-01 -3.82377219e+00\n",
      "  1.78935733e-02  3.93956542e-01 -2.06271663e-01  6.43047273e-01\n",
      "  1.08043480e+00  7.90459216e-02  1.29405820e+00  6.73825294e-02\n",
      " -7.29038417e-01  1.29359710e+00  7.39438653e-01  1.41507924e-01\n",
      " -4.35061216e-01 -7.82350600e-01  4.92615163e-01  1.06348598e+00\n",
      " -2.24013463e-01 -2.53134996e-01  1.53153837e+00  8.48526657e-02\n",
      "  3.29156488e-01 -2.67507672e-01 -1.05125450e-01 -1.89887926e-01\n",
      "  7.25032866e-01  8.33268404e-01  7.52842546e-01 -7.98365951e-01\n",
      "  2.92885691e-01 -2.47464389e-01  3.70844275e-01 -3.96315306e-01\n",
      " -4.83565569e-01 -6.97899878e-01 -1.16416299e+00 -1.91592026e+00\n",
      " -5.00058569e-02 -2.32105643e-01  6.76534295e-01 -5.83867013e-01\n",
      " -1.84551287e+00  5.51637888e-01 -1.75208375e-02  7.30981827e-01\n",
      "  7.84946084e-02  7.77642846e-01 -1.91847205e-01 -8.13209832e-01\n",
      " -8.28712761e-01  1.79338306e-01 -2.15870857e-01 -2.96014816e-01\n",
      "  8.65026832e-01 -1.60010469e+00  1.31913972e+00  5.11558294e-01]\n"
     ]
    },
    {
     "data": {
      "image/png": "[encoded data removed]",
      "text/plain": [
       "<Figure size 640x480 with 1 Axes>"
      ]
     },
     "metadata": {},
     "output_type": "display_data"
    }
   ],
   "source": [
    "# Diagnosing issues with image embeddings in DINOv2\n",
    "print(np.mean(embeddings, axis=0))\n",
    "\n",
    "\n",
    "cos_sim_values = cos_sim[np.triu_indices_from(cos_sim, k=1)]\n",
    "plt.hist(cos_sim_values, bins=50, alpha=0.75, color='blue')\n",
    "plt.show()\n"
   ]
  },
  {
   "cell_type": "code",
   "execution_count": 16,
   "metadata": {},
   "outputs": [
    {
     "data": {
      "image/png": "[encoded data removed]",
      "text/plain": [
       "<Figure size 640x480 with 1 Axes>"
      ]
     },
     "metadata": {},
     "output_type": "display_data"
    }
   ],
   "source": [
    "# Attempting to zero-center embeddings to improve cosine similarity\n",
    "mean_embedding = np.mean(embeddings, axis=0)  \n",
    "centered_embeddings = embeddings - mean_embedding \n",
    "\n",
    "norm_embeddings = centered_embeddings / np.linalg.norm(centered_embeddings, axis=1, keepdims=True)\n",
    "\n",
    "cos_sim = np.dot(norm_embeddings, norm_embeddings.T)\n",
    "\n",
    "cos_sim_values = cos_sim[np.triu_indices_from(cos_sim, k=1)]\n",
    "plt.hist(cos_sim_values, bins=50, alpha=0.75, color='blue')\n",
    "plt.show()\n",
    "\n"
   ]
  },
  {
   "cell_type": "code",
   "execution_count": 20,
   "metadata": {},
   "outputs": [
    {
     "name": "stderr",
     "output_type": "stream",
     "text": [
      "Using a slow image processor as `use_fast` is unset and a slow processor was saved with this model. `use_fast=True` will be the default behavior in v4.52, even if the model was saved with a slow processor. This will result in minor differences in outputs. You'll still be able to use a slow processor with `use_fast=False`.\n"
     ]
    },
    {
     "data": {
      "text/plain": [
       "dict_keys(['input_ids', 'attention_mask'])"
      ]
     },
     "execution_count": 20,
     "metadata": {},
     "output_type": "execute_result"
    }
   ],
   "source": [
    "# Now working with CLIP instead to implement multimodal similarity search\n",
    "\n",
    "from transformers import CLIPProcessor, CLIPModel\n",
    "import torch\n",
    "\n",
    "model_id = \"openai/clip-vit-base-patch32\"\n",
    "processor = CLIPProcessor.from_pretrained(model_id)\n",
    "model = CLIPModel.from_pretrained(model_id)\n",
    "\n",
    "device = \"cuda\" if torch.cuda.is_available() else \"cpu\"\n",
    "model.to(device)\n",
    "\n",
    "payloads['info'] = payloads['material'] + \" \" + payloads['color']\n",
    "tokens = processor(\n",
    "    text=payloads['info'].tolist(),\n",
    "    padding=True,\n",
    "    return_tensors='pt'\n",
    ").to(device)\n",
    "tokens.keys()"
   ]
  },
  {
   "cell_type": "code",
   "execution_count": 21,
   "metadata": {},
   "outputs": [
    {
     "name": "stdout",
     "output_type": "stream",
     "text": [
      "torch.Size([50, 512])\n",
      "tensor(-3.1601) tensor(7.0389)\n"
     ]
    }
   ],
   "source": [
    "# CLIP Model\n",
    "# Getting text embeddings from CLIP\n",
    "\n",
    "with torch.no_grad():\n",
    "    text_emb = model.get_text_features(**tokens)\n",
    "\n",
    "print(text_emb.shape)\n",
    "print(text_emb.min(), text_emb.max())\n"
   ]
  },
  {
   "cell_type": "code",
   "execution_count": 22,
   "metadata": {},
   "outputs": [
    {
     "data": {
      "text/plain": [
       "(50,)"
      ]
     },
     "execution_count": 22,
     "metadata": {},
     "output_type": "execute_result"
    }
   ],
   "source": [
    "# CLIP Model\n",
    "import numpy as np\n",
    "\n",
    "# detach text emb from graph, move to CPU, and convert to numpy array\n",
    "text_emb = text_emb.detach().cpu().numpy()\n",
    "\n",
    "# calculate value to normalize each vector by\n",
    "norm_factor = np.linalg.norm(text_emb, axis=1)\n",
    "norm_factor.shape"
   ]
  },
  {
   "cell_type": "code",
   "execution_count": 23,
   "metadata": {},
   "outputs": [
    {
     "data": {
      "text/plain": [
       "torch.Size([50, 3, 224, 224])"
      ]
     },
     "execution_count": 23,
     "metadata": {},
     "output_type": "execute_result"
    }
   ],
   "source": [
    "# CLIP Model\n",
    "# Getting image embeddings from CLIP\n",
    "img_inputs = processor(\n",
    "    text=None,\n",
    "    images=images,\n",
    "    return_tensors='pt'\n",
    ")['pixel_values'].to(device)\n",
    "img_inputs.shape"
   ]
  },
  {
   "cell_type": "code",
   "execution_count": 24,
   "metadata": {},
   "outputs": [
    {
     "name": "stdout",
     "output_type": "stream",
     "text": [
      "torch.Size([50, 512])\n",
      "tensor(-9.4213, grad_fn=<MinBackward1>) tensor(3.1204, grad_fn=<MaxBackward1>)\n",
      "(50, 512)\n",
      "-0.8036282 0.28607258\n"
     ]
    }
   ],
   "source": [
    "# CLIP Model\n",
    "img_emb = model.get_image_features(img_inputs)\n",
    "print(img_emb.shape)\n",
    "print(img_emb.min(), img_emb.max())\n",
    "\n",
    "# NORMALIZE\n",
    "# detach text emb from graph, move to CPU, and convert to numpy array\n",
    "img_emb = img_emb.detach().cpu().numpy()\n",
    "\n",
    "img_emb = img_emb.T / np.linalg.norm(img_emb, axis=1)\n",
    "# transpose back to (21, 512)\n",
    "img_emb = img_emb.T\n",
    "print(img_emb.shape)\n",
    "print(img_emb.min(), img_emb.max())"
   ]
  },
  {
   "cell_type": "code",
   "execution_count": 25,
   "metadata": {},
   "outputs": [
    {
     "data": {
      "image/png": "[encoded data removed]",
      "text/plain": [
       "<Figure size 640x480 with 1 Axes>"
      ]
     },
     "metadata": {},
     "output_type": "display_data"
    }
   ],
   "source": [
    "# CLIP Model\n",
    "from numpy.linalg import norm\n",
    "\n",
    "cos_sim = np.dot(text_emb, img_emb.T) / (\n",
    "    norm(text_emb, axis=1) * norm(img_emb, axis=1)\n",
    ")\n",
    "cos_sim.shape\n",
    "\n",
    "import matplotlib.pyplot as plt\n",
    "\n",
    "plt.imshow(cos_sim)\n",
    "plt.show()"
   ]
  },
  {
   "cell_type": "code",
   "execution_count": null,
   "metadata": {},
   "outputs": [
    {
     "data": {
      "image/png": "[encoded data removed]",
      "text/plain": [
       "<Figure size 640x480 with 2 Axes>"
      ]
     },
     "metadata": {},
     "output_type": "display_data"
    }
   ],
   "source": [
    "\n",
    "# Normalize both image and text embeddings\n",
    "image_embeddings = img_emb / np.linalg.norm(img_emb, axis=1, keepdims=True)\n",
    "text_embeddings = text_emb / np.linalg.norm(text_emb, axis=1, keepdims=True)\n",
    "\n",
    "# Compute cosine similarity between images and text (each row corresponds to one image-text pair)\n",
    "image_text_sim = np.dot(image_embeddings, text_embeddings.T)\n",
    "\n",
    "# Visualize the similarity matrix\n",
    "plt.imshow(image_text_sim, cmap=\"viridis\")\n",
    "plt.show()\n"
   ]
  },
  {
   "cell_type": "code",
   "execution_count": 28,
   "metadata": {},
   "outputs": [
    {
     "data": {
      "image/png": "[encoded data removed]",
      "text/plain": [
       "<Figure size 640x480 with 1 Axes>"
      ]
     },
     "metadata": {},
     "output_type": "display_data"
    }
   ],
   "source": [
    "similarities = np.dot(image_embeddings, text_embeddings.T).flatten()\n",
    "\n",
    "plt.hist(similarities, bins=100, color=\"blue\")\n",
    "plt.xlabel(\"Cosine Similarity\")\n",
    "plt.ylabel(\"Frequency\")\n",
    "plt.title(\"Distribution of Image-Text Similarities\")\n",
    "plt.show()"
   ]
  },
  {
   "cell_type": "code",
   "execution_count": null,
   "metadata": {},
   "outputs": [
    {
     "data": {
      "text/plain": [
       "True"
      ]
     },
     "execution_count": 13,
     "metadata": {},
     "output_type": "execute_result"
    }
   ],
   "source": [
    "# Currently holding embeddings from DINOv2 + sample information in payloads\n",
    "# Loading Qdrant database access tokens from .env file\n",
    "\n",
    "from dotenv import load_dotenv\n",
    "load_dotenv()"
   ]
  },
  {
   "cell_type": "code",
   "execution_count": 18,
   "metadata": {},
   "outputs": [
    {
     "data": {
      "text/plain": [
       "<qdrant_client.qdrant_client.QdrantClient at 0x2cdbede80>"
      ]
     },
     "execution_count": 18,
     "metadata": {},
     "output_type": "execute_result"
    }
   ],
   "source": [
    "# Initializing Qdrant client object\n",
    "\n",
    "from qdrant_client import QdrantClient\n",
    "\n",
    "qclient = QdrantClient(\n",
    "    url= os.getenv(\"QDRANT_DB_URL\"),\n",
    "    api_key= os.getenv(\"QDRANT_API_KEY\")\n",
    ")\n",
    "qclient"
   ]
  },
  {
   "cell_type": "code",
   "execution_count": 19,
   "metadata": {},
   "outputs": [
    {
     "name": "stderr",
     "output_type": "stream",
     "text": [
      "/var/folders/p4/h22vp3dd135f5npjdy_vlh1c0000gn/T/ipykernel_76866/3401461942.py:6: DeprecationWarning: `recreate_collection` method is deprecated and will be removed in the future. Use `collection_exists` to check collection existence and `create_collection` instead.\n",
      "  collection = qclient.recreate_collection(\n"
     ]
    },
    {
     "data": {
      "text/plain": [
       "True"
      ]
     },
     "execution_count": 19,
     "metadata": {},
     "output_type": "execute_result"
    }
   ],
   "source": [
    "# Creating collection in Qdrant database \n",
    "\n",
    "from qdrant_client.models import Distance, VectorParams\n",
    "\n",
    "collection_name = \"sample_images_2\"\n",
    "collection = qclient.recreate_collection(\n",
    "    collection_name=collection_name,\n",
    "    vectors_config=VectorParams(\n",
    "        size=embedding_len,\n",
    "\n",
    "        # Previously tried DOT distance, but cosine distance is more suitable for image embeddings\n",
    "        distance=Distance.COSINE\n",
    "    )\n",
    ")\n",
    "collection"
   ]
  },
  {
   "cell_type": "code",
   "execution_count": 20,
   "metadata": {},
   "outputs": [
    {
     "data": {
      "text/plain": [
       "[{'id': 0,\n",
       "  'image_url': '/Users/nandinibohra/Desktop/VSCodeFiles/ImageRecommendation_ProductMatching/Product_Catalog/all_product_images/sample_images/sample_00.jpg',\n",
       "  'type': 'samples',\n",
       "  'material': 'JUTE',\n",
       "  'color': 'CREAM',\n",
       "  'base64': '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'}]"
      ]
     },
     "execution_count": 20,
     "metadata": {},
     "output_type": "execute_result"
    }
   ],
   "source": [
    "# JSONifying the payloads dataframe to format metadata for each point\n",
    "\n",
    "payload_dicts = payloads.to_dict(orient=\"records\")\n",
    "payload_dicts[:1]"
   ]
  },
  {
   "cell_type": "code",
   "execution_count": 21,
   "metadata": {},
   "outputs": [],
   "source": [
    "# Creating records of payloads to load into Qdrant\n",
    "\n",
    "from qdrant_client import models\n",
    "\n",
    "records = [\n",
    "    models.Record(\n",
    "        id=idx,\n",
    "        payload=payload_dicts[idx],\n",
    "        vector=avg_patch_embeddings[idx]\n",
    "    )\n",
    "    for idx, _ in enumerate(payload_dicts)\n",
    "]"
   ]
  },
  {
   "cell_type": "code",
   "execution_count": 22,
   "metadata": {},
   "outputs": [
    {
     "name": "stderr",
     "output_type": "stream",
     "text": [
      "/var/folders/p4/h22vp3dd135f5npjdy_vlh1c0000gn/T/ipykernel_76866/2914591607.py:3: DeprecationWarning: `upload_records` is deprecated, use `upload_points` instead\n",
      "  qclient.upload_records(\n"
     ]
    }
   ],
   "source": [
    "# Sending records to Qdrant database\n",
    "\n",
    "qclient.upload_records(\n",
    "    collection_name=collection_name,\n",
    "    records=records\n",
    ")"
   ]
  },
  {
   "cell_type": "code",
   "execution_count": null,
   "metadata": {},
   "outputs": [],
   "source": [
    "# from qdrant_client import QdrantClient\n",
    "# from qdrant_client.models import Distance, VectorParams\n",
    "# from qdrant_client.models import PointStruct\n",
    "\n",
    "\n",
    "\n",
    "# client = QdrantClient(url=\"http://localhost:6333\")\n",
    "\n",
    "# # client.create_collection(\n",
    "# #     collection_name=\"test_collection\",\n",
    "# #     vectors_config=VectorParams(size=4, distance=Distance.DOT),\n",
    "# # )\n",
    "\n",
    "# # operation_info = client.upsert(\n",
    "# #     collection_name=\"test_collection\",\n",
    "# #     wait=True,\n",
    "# #     points=[\n",
    "# #         PointStruct(id=1, vector=[0.05, 0.61, 0.76, 0.74], payload={\"city\": \"Berlin\"}),\n",
    "# #         PointStruct(id=2, vector=[0.19, 0.81, 0.75, 0.11], payload={\"city\": \"London\"}),\n",
    "# #         PointStruct(id=3, vector=[0.36, 0.55, 0.47, 0.94], payload={\"city\": \"Moscow\"}),\n",
    "# #         PointStruct(id=4, vector=[0.18, 0.01, 0.85, 0.80], payload={\"city\": \"New York\"}),\n",
    "# #         PointStruct(id=5, vector=[0.24, 0.18, 0.22, 0.44], payload={\"city\": \"Beijing\"}),\n",
    "# #         PointStruct(id=6, vector=[0.35, 0.08, 0.11, 0.44], payload={\"city\": \"Mumbai\"}),\n",
    "# #     ],\n",
    "# # )\n",
    "\n",
    "# # print(operation_info)\n",
    "\n",
    "# # search_result = client.query_points(\n",
    "# #     collection_name=\"test_collection\",\n",
    "# #     query=[0.2, 0.1, 0.9, 0.7],\n",
    "# #     with_payload=False,\n",
    "# #     limit=3\n",
    "# # ).points\n",
    "\n",
    "# # print(search_result)\n",
    "\n",
    "# client.delete_collection(collection_name=\"test_collection\")\n",
    "# print(f\"Collection 'test_collection' deleted.\")\n"
   ]
  }
 ],
 "metadata": {
  "kernelspec": {
   "display_name": ".venv",
   "language": "python",
   "name": "python3"
  },
  "language_info": {
   "codemirror_mode": {
    "name": "ipython",
    "version": 3
   },
   "file_extension": ".py",
   "mimetype": "text/x-python",
   "name": "python",
   "nbconvert_exporter": "python",
   "pygments_lexer": "ipython3",
   "version": "3.12.0"
  }
 },
 "nbformat": 4,
 "nbformat_minor": 2
}
